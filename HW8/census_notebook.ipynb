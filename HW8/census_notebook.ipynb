{
 "cells": [
  {
   "cell_type": "code",
   "execution_count": 1,
   "metadata": {},
   "outputs": [],
   "source": [
    "# Elias Caceres, cacer019\n",
    "# Section 002\n",
    "# Partner: Diego Vazquez, vazqu177\n",
    "# HW8 Sheet 2"
   ]
  },
  {
   "cell_type": "code",
   "execution_count": 2,
   "metadata": {},
   "outputs": [],
   "source": [
    "import csv"
   ]
  },
  {
   "cell_type": "code",
   "execution_count": 3,
   "metadata": {},
   "outputs": [
    {
     "data": {
      "text/plain": [
       "'%.3f'"
      ]
     },
     "execution_count": 3,
     "metadata": {},
     "output_type": "execute_result"
    }
   ],
   "source": [
    "%precision 3"
   ]
  },
  {
   "cell_type": "code",
   "execution_count": 4,
   "metadata": {},
   "outputs": [],
   "source": [
    "with open('census.csv') as f:\n",
    "    census = list(csv.DictReader(f))"
   ]
  },
  {
   "cell_type": "code",
   "execution_count": 5,
   "metadata": {},
   "outputs": [],
   "source": [
    "from pandas import DataFrame, Series"
   ]
  },
  {
   "cell_type": "code",
   "execution_count": 6,
   "metadata": {},
   "outputs": [],
   "source": [
    "import pandas as pd"
   ]
  },
  {
   "cell_type": "code",
   "execution_count": 7,
   "metadata": {},
   "outputs": [],
   "source": [
    "df = pd.read_csv('census.csv')"
   ]
  },
  {
   "cell_type": "code",
   "execution_count": 8,
   "metadata": {},
   "outputs": [
    {
     "data": {
      "text/plain": [
       "District of Columbia    1\n",
       "Name: STNAME, dtype: int64"
      ]
     },
     "execution_count": 8,
     "metadata": {},
     "output_type": "execute_result"
    }
   ],
   "source": [
    "# Task 1 - Worksheet 2\n",
    "# Purpose: To return the state with the fewest number of counties in it.\n",
    "# Output: State\n",
    "\n",
    "def answer1():\n",
    "    fifty_c = df.where(df['SUMLEV'] == max(df['SUMLEV'])).dropna()\n",
    "    temp = fifty_c['STNAME'].value_counts(normalize=False)\n",
    "    temp.get([-1])\n",
    "    \n",
    "fifty_c = df.where(df['SUMLEV'] == max(df['SUMLEV'])).dropna()\n",
    "temp = fifty_c['STNAME'].value_counts(normalize=False)\n",
    "temp.get([-1])"
   ]
  },
  {
   "cell_type": "code",
   "execution_count": 9,
   "metadata": {},
   "outputs": [],
   "source": [
    "state = df.groupby('STNAME')"
   ]
  },
  {
   "cell_type": "code",
   "execution_count": 10,
   "metadata": {},
   "outputs": [],
   "source": [
    "df3 = state.sum()"
   ]
  },
  {
   "cell_type": "code",
   "execution_count": 11,
   "metadata": {},
   "outputs": [
    {
     "data": {
      "text/plain": [
       "STNAME\n",
       "Alabama                 102518.000000\n",
       "Alaska                   20012.333333\n",
       "Arizona                 150883.666667\n",
       "Arkansas                 66733.000000\n",
       "California              877857.000000\n",
       "Colorado                115134.000000\n",
       "Connecticut              64171.666667\n",
       "Delaware                 19384.666667\n",
       "District of Columbia     16376.000000\n",
       "Florida                 376615.000000\n",
       "Georgia                 228659.333333\n",
       "Hawaii                   33348.666667\n",
       "Idaho                    39744.333333\n",
       "Illinois                278422.000000\n",
       "Indiana                 145978.000000\n",
       "Iowa                     67978.333333\n",
       "Kansas                   69108.333333\n",
       "Kentucky                 97145.000000\n",
       "Louisiana               109593.666667\n",
       "Maine                    22436.000000\n",
       "Maryland                127383.666667\n",
       "Massachusetts           127246.333333\n",
       "Michigan                199281.000000\n",
       "Minnesota               120811.000000\n",
       "Mississippi              68063.333333\n",
       "Missouri                132352.333333\n",
       "Montana                  21474.666667\n",
       "Nebraska                 45478.000000\n",
       "Nevada                   61985.333333\n",
       "New Hampshire            22036.333333\n",
       "New Jersey              182295.666667\n",
       "New Mexico               46935.666667\n",
       "New York                420041.666667\n",
       "North Carolina          210170.333333\n",
       "North Dakota             17921.666667\n",
       "Ohio                    242856.333333\n",
       "Oklahoma                 92969.000000\n",
       "Oregon                   79627.333333\n",
       "Pennsylvania            248822.333333\n",
       "Rhode Island             19190.000000\n",
       "South Carolina          100367.000000\n",
       "South Dakota             21178.000000\n",
       "Tennessee               140155.000000\n",
       "Texas                   676009.666667\n",
       "Utah                     90142.666667\n",
       "Vermont                  10572.000000\n",
       "Virginia                179816.333333\n",
       "Washington              153059.333333\n",
       "West Virginia            36215.666667\n",
       "Wisconsin               117790.666667\n",
       "Wyoming                  13287.333333\n",
       "dtype: float64"
      ]
     },
     "execution_count": 11,
     "metadata": {},
     "output_type": "execute_result"
    }
   ],
   "source": [
    "# Task 2 - Worksheet 2\n",
    "# Purpose: To figure out which state had the highest avergae groth population due to births over 5 years\n",
    "# Output: State and average growth due to birth\n",
    "\n",
    "def answer2():\n",
    "    dic = {}\n",
    "    for x in df3:\n",
    "        dic[x] = ((df3['BIRTHS2010'] + df3['BIRTHS2011'] + df3['BIRTHS2012'] + df3['BIRTHS2013'] + df3['BIRTHS2014'] + df3['BIRTHS2015'])/6)\n",
    "    dic.get('SUMLEV')\n",
    "    \n",
    "dic = {}\n",
    "for x in df3:\n",
    "    dic[x] = ((df3['BIRTHS2010'] + df3['BIRTHS2011'] + df3['BIRTHS2012'] + df3['BIRTHS2013'] + df3['BIRTHS2014'] + df3['BIRTHS2015'])/6)\n",
    "\n",
    "dic.get('SUMLEV')\n",
    "\n",
    "\n",
    "    \n",
    "    "
   ]
  }
 ],
 "metadata": {
  "kernelspec": {
   "display_name": "Python 3",
   "language": "python",
   "name": "python3"
  },
  "language_info": {
   "codemirror_mode": {
    "name": "ipython",
    "version": 3
   },
   "file_extension": ".py",
   "mimetype": "text/x-python",
   "name": "python",
   "nbconvert_exporter": "python",
   "pygments_lexer": "ipython3",
   "version": "3.7.3"
  }
 },
 "nbformat": 4,
 "nbformat_minor": 2
}

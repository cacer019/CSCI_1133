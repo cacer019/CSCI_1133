{
 "cells": [
  {
   "cell_type": "code",
   "execution_count": 1,
   "metadata": {},
   "outputs": [],
   "source": [
    "# Elias Caceres, cacer019\n",
    "# Section 002\n",
    "# Partner: Diego Vazquez, vazqu177\n",
    "# HW8 Sheet 1"
   ]
  },
  {
   "cell_type": "code",
   "execution_count": 2,
   "metadata": {},
   "outputs": [],
   "source": [
    "import csv"
   ]
  },
  {
   "cell_type": "code",
   "execution_count": 3,
   "metadata": {},
   "outputs": [
    {
     "data": {
      "text/plain": [
       "'%.3f'"
      ]
     },
     "execution_count": 3,
     "metadata": {},
     "output_type": "execute_result"
    }
   ],
   "source": [
    "%precision 3"
   ]
  },
  {
   "cell_type": "code",
   "execution_count": 4,
   "metadata": {},
   "outputs": [],
   "source": [
    "with open('cars_mpg.csv') as f:\n",
    "    mpg = list(csv.DictReader(f))"
   ]
  },
  {
   "cell_type": "code",
   "execution_count": 5,
   "metadata": {},
   "outputs": [
    {
     "data": {
      "text/plain": [
       "[16.859, 23.440]"
      ]
     },
     "execution_count": 5,
     "metadata": {},
     "output_type": "execute_result"
    }
   ],
   "source": [
    "# Task 1 - Worksheet1\n",
    "# Purpose: Calculates the average mpg for city driving and average mpg for highway driving.\n",
    "# Output: A list with two floats in them, indicating their respective average mpg.\n",
    "\n",
    "avg_mpg = []\n",
    "\n",
    "avg_mpg.append(sum(int(d['cty']) for d in mpg)/len(mpg))\n",
    "avg_mpg.append(sum(int(d['hwy']) for d in mpg)/len(mpg))\n",
    "\n",
    "avg_mpg\n"
   ]
  },
  {
   "cell_type": "code",
   "execution_count": 6,
   "metadata": {},
   "outputs": [
    {
     "data": {
      "text/plain": [
       "{'allude',\n",
       " 'chevron',\n",
       " 'doggie',\n",
       " 'freeway',\n",
       " 'honda',\n",
       " 'hyundai',\n",
       " 'jeep',\n",
       " 'land rover',\n",
       " 'lincoln',\n",
       " 'mercury',\n",
       " 'nissan',\n",
       " 'silver',\n",
       " 'subbie',\n",
       " 'tinker',\n",
       " 'volks'}"
      ]
     },
     "execution_count": 6,
     "metadata": {},
     "output_type": "execute_result"
    }
   ],
   "source": [
    "# Task 2 - Worksheet2\n",
    "# Purpose: Shows different types of manufacturers.\n",
    "# Output: A set of the manufacturers will be returned.\n",
    "\n",
    "manufacturers = set(m['manufacturer'] for m in mpg)\n",
    "\n",
    "manufacturers"
   ]
  },
  {
   "cell_type": "code",
   "execution_count": 7,
   "metadata": {},
   "outputs": [
    {
     "data": {
      "text/plain": [
       "[[('honda', 24.444),\n",
       "  ('freeway', 14.000),\n",
       "  ('hyundai', 18.643),\n",
       "  ('chevron', 15.000),\n",
       "  ('mercury', 13.250),\n",
       "  ('allude', 17.611),\n",
       "  ('nissan', 18.077),\n",
       "  ('subbie', 19.286),\n",
       "  ('tinker', 18.529),\n",
       "  ('lincoln', 11.333),\n",
       "  ('jeep', 13.500),\n",
       "  ('volks', 20.926),\n",
       "  ('land rover', 11.500),\n",
       "  ('silver', 17.000),\n",
       "  ('doggie', 13.135)],\n",
       " [('honda', 32.556),\n",
       "  ('freeway', 19.360),\n",
       "  ('hyundai', 26.857),\n",
       "  ('chevron', 21.895),\n",
       "  ('mercury', 18.000),\n",
       "  ('allude', 26.444),\n",
       "  ('nissan', 24.615),\n",
       "  ('subbie', 25.571),\n",
       "  ('tinker', 24.912),\n",
       "  ('lincoln', 17.000),\n",
       "  ('jeep', 17.625),\n",
       "  ('volks', 29.222),\n",
       "  ('land rover', 16.500),\n",
       "  ('silver', 26.400),\n",
       "  ('doggie', 17.946)]]"
      ]
     },
     "execution_count": 7,
     "metadata": {},
     "output_type": "execute_result"
    }
   ],
   "source": [
    "# Task 3 - Worksheet3\n",
    "# Purpose: Calculates average city mpg and average highway mpg for each manufacturer\n",
    "# Output: A list will be returned with the city mpg's in the first column and the highway mpg in the second.\n",
    "\n",
    "ByManAvgMpg = []\n",
    "\n",
    "cty_avg = []\n",
    "\n",
    "for manu in manufacturers:\n",
    "    manu_mpg = 0\n",
    "    manu_count = 0\n",
    "    for rec in mpg:\n",
    "        if rec['manufacturer']== manu: \n",
    "            manu_count = manu_count + 1 \n",
    "            manu_mpg = manu_mpg + float(rec['cty'])\n",
    "    cty_avg.append((manu, manu_mpg/manu_count))\n",
    "\n",
    "hwy_avg = []\n",
    "\n",
    "for manu in manufacturers:\n",
    "    manu_mpg = 0\n",
    "    manu_count = 0\n",
    "    for rec in mpg:\n",
    "        if rec['manufacturer']== manu: \n",
    "            manu_count = manu_count + 1 \n",
    "            manu_mpg = manu_mpg + float(rec['hwy'])\n",
    "    hwy_avg.append((manu, manu_mpg/manu_count))\n",
    "    \n",
    "ByManAvgMpg = [(cty_avg), (hwy_avg)]\n",
    "\n",
    "ByManAvgMpg\n",
    "\n",
    "            \n",
    "    \n"
   ]
  },
  {
   "cell_type": "code",
   "execution_count": 8,
   "metadata": {},
   "outputs": [
    {
     "data": {
      "text/plain": [
       "[[('lincoln', 11.333),\n",
       "  ('land rover', 11.500),\n",
       "  ('doggie', 13.135),\n",
       "  ('mercury', 13.250),\n",
       "  ('jeep', 13.500),\n",
       "  ('freeway', 14.000),\n",
       "  ('chevron', 15.000),\n",
       "  ('silver', 17.000),\n",
       "  ('allude', 17.611),\n",
       "  ('nissan', 18.077),\n",
       "  ('tinker', 18.529),\n",
       "  ('hyundai', 18.643),\n",
       "  ('subbie', 19.286),\n",
       "  ('volks', 20.926),\n",
       "  ('honda', 24.444)],\n",
       " [('land rover', 16.500),\n",
       "  ('lincoln', 17.000),\n",
       "  ('jeep', 17.625),\n",
       "  ('doggie', 17.946),\n",
       "  ('mercury', 18.000),\n",
       "  ('freeway', 19.360),\n",
       "  ('chevron', 21.895),\n",
       "  ('nissan', 24.615),\n",
       "  ('tinker', 24.912),\n",
       "  ('subbie', 25.571),\n",
       "  ('silver', 26.400),\n",
       "  ('allude', 26.444),\n",
       "  ('hyundai', 26.857),\n",
       "  ('volks', 29.222),\n",
       "  ('honda', 32.556)]]"
      ]
     },
     "execution_count": 8,
     "metadata": {},
     "output_type": "execute_result"
    }
   ],
   "source": [
    "# Task4 - Worksheet1\n",
    "# Purpose: Sorts the two list from before by mpg. \n",
    "# Output: Ordered list of mpg.\n",
    "\n",
    "ByManAvgMpg[0].sort(key=lambda x: x[1])\n",
    "ByManAvgMpg[1].sort(key=lambda x: x[1])\n",
    "\n",
    "ByManAvgMpg"
   ]
  },
  {
   "cell_type": "code",
   "execution_count": 9,
   "metadata": {},
   "outputs": [
    {
     "data": {
      "text/html": [
       "<div>\n",
       "<style scoped>\n",
       "    .dataframe tbody tr th:only-of-type {\n",
       "        vertical-align: middle;\n",
       "    }\n",
       "\n",
       "    .dataframe tbody tr th {\n",
       "        vertical-align: top;\n",
       "    }\n",
       "\n",
       "    .dataframe thead th {\n",
       "        text-align: right;\n",
       "    }\n",
       "</style>\n",
       "<table border=\"1\" class=\"dataframe\">\n",
       "  <thead>\n",
       "    <tr style=\"text-align: right;\">\n",
       "      <th></th>\n",
       "      <th>Unnamed: 0</th>\n",
       "      <th>manufacturer</th>\n",
       "      <th>model</th>\n",
       "      <th>displ</th>\n",
       "      <th>year</th>\n",
       "      <th>cyl</th>\n",
       "      <th>trans</th>\n",
       "      <th>drv</th>\n",
       "      <th>cty</th>\n",
       "      <th>hwy</th>\n",
       "      <th>fl</th>\n",
       "      <th>class</th>\n",
       "    </tr>\n",
       "  </thead>\n",
       "  <tbody>\n",
       "    <tr>\n",
       "      <th>0</th>\n",
       "      <td>1</td>\n",
       "      <td>allude</td>\n",
       "      <td>excel</td>\n",
       "      <td>1.8</td>\n",
       "      <td>1999</td>\n",
       "      <td>4</td>\n",
       "      <td>auto(l5)</td>\n",
       "      <td>f</td>\n",
       "      <td>18</td>\n",
       "      <td>29</td>\n",
       "      <td>p</td>\n",
       "      <td>compact</td>\n",
       "    </tr>\n",
       "    <tr>\n",
       "      <th>1</th>\n",
       "      <td>2</td>\n",
       "      <td>allude</td>\n",
       "      <td>excel</td>\n",
       "      <td>1.8</td>\n",
       "      <td>1999</td>\n",
       "      <td>4</td>\n",
       "      <td>manual(m5)</td>\n",
       "      <td>f</td>\n",
       "      <td>21</td>\n",
       "      <td>29</td>\n",
       "      <td>p</td>\n",
       "      <td>compact</td>\n",
       "    </tr>\n",
       "    <tr>\n",
       "      <th>2</th>\n",
       "      <td>3</td>\n",
       "      <td>allude</td>\n",
       "      <td>excel</td>\n",
       "      <td>2.0</td>\n",
       "      <td>2008</td>\n",
       "      <td>4</td>\n",
       "      <td>manual(m6)</td>\n",
       "      <td>f</td>\n",
       "      <td>20</td>\n",
       "      <td>31</td>\n",
       "      <td>p</td>\n",
       "      <td>compact</td>\n",
       "    </tr>\n",
       "    <tr>\n",
       "      <th>3</th>\n",
       "      <td>4</td>\n",
       "      <td>allude</td>\n",
       "      <td>excel</td>\n",
       "      <td>2.0</td>\n",
       "      <td>2008</td>\n",
       "      <td>4</td>\n",
       "      <td>auto(av)</td>\n",
       "      <td>f</td>\n",
       "      <td>21</td>\n",
       "      <td>30</td>\n",
       "      <td>p</td>\n",
       "      <td>compact</td>\n",
       "    </tr>\n",
       "    <tr>\n",
       "      <th>4</th>\n",
       "      <td>5</td>\n",
       "      <td>allude</td>\n",
       "      <td>excel</td>\n",
       "      <td>2.8</td>\n",
       "      <td>1999</td>\n",
       "      <td>6</td>\n",
       "      <td>auto(l5)</td>\n",
       "      <td>f</td>\n",
       "      <td>16</td>\n",
       "      <td>26</td>\n",
       "      <td>p</td>\n",
       "      <td>compact</td>\n",
       "    </tr>\n",
       "  </tbody>\n",
       "</table>\n",
       "</div>"
      ],
      "text/plain": [
       "   Unnamed: 0 manufacturer  model  displ  year  cyl       trans drv  cty  hwy  \\\n",
       "0           1       allude  excel    1.8  1999    4    auto(l5)   f   18   29   \n",
       "1           2       allude  excel    1.8  1999    4  manual(m5)   f   21   29   \n",
       "2           3       allude  excel    2.0  2008    4  manual(m6)   f   20   31   \n",
       "3           4       allude  excel    2.0  2008    4    auto(av)   f   21   30   \n",
       "4           5       allude  excel    2.8  1999    6    auto(l5)   f   16   26   \n",
       "\n",
       "  fl    class  \n",
       "0  p  compact  \n",
       "1  p  compact  \n",
       "2  p  compact  \n",
       "3  p  compact  \n",
       "4  p  compact  "
      ]
     },
     "execution_count": 9,
     "metadata": {},
     "output_type": "execute_result"
    }
   ],
   "source": [
    "# Task5 - Worksheet1\n",
    "# Purpose: To import cars_mpg.csv intoa pandas dataframe.\n",
    "# Output: Head of dataframe\n",
    "\n",
    "import pandas as pd\n",
    "\n",
    "from pandas import DataFrame, Series\n",
    "\n",
    "df = pd.read_csv('cars_mpg.csv')\n",
    "\n",
    "df.head()"
   ]
  },
  {
   "cell_type": "code",
   "execution_count": 10,
   "metadata": {},
   "outputs": [
    {
     "data": {
      "text/plain": [
       "35"
      ]
     },
     "execution_count": 10,
     "metadata": {},
     "output_type": "execute_result"
    }
   ],
   "source": [
    "# Task6 - Worksheet1\n",
    "# Purpose: Calculate max mpg for city and highway.\n",
    "# Output: Two ints, city and highway\n",
    "\n",
    "df['cty'].max()\n"
   ]
  },
  {
   "cell_type": "code",
   "execution_count": 11,
   "metadata": {},
   "outputs": [
    {
     "data": {
      "text/plain": [
       "44"
      ]
     },
     "execution_count": 11,
     "metadata": {},
     "output_type": "execute_result"
    }
   ],
   "source": [
    "df['hwy'].max()"
   ]
  },
  {
   "cell_type": "code",
   "execution_count": 12,
   "metadata": {},
   "outputs": [
    {
     "data": {
      "text/html": [
       "<div>\n",
       "<style scoped>\n",
       "    .dataframe tbody tr th:only-of-type {\n",
       "        vertical-align: middle;\n",
       "    }\n",
       "\n",
       "    .dataframe tbody tr th {\n",
       "        vertical-align: top;\n",
       "    }\n",
       "\n",
       "    .dataframe thead th {\n",
       "        text-align: right;\n",
       "    }\n",
       "</style>\n",
       "<table border=\"1\" class=\"dataframe\">\n",
       "  <thead>\n",
       "    <tr style=\"text-align: right;\">\n",
       "      <th></th>\n",
       "      <th>0</th>\n",
       "    </tr>\n",
       "  </thead>\n",
       "  <tbody>\n",
       "    <tr>\n",
       "      <th>mpg_city</th>\n",
       "      <td>16.858974</td>\n",
       "    </tr>\n",
       "    <tr>\n",
       "      <th>mpg_highway</th>\n",
       "      <td>23.440171</td>\n",
       "    </tr>\n",
       "  </tbody>\n",
       "</table>\n",
       "</div>"
      ],
      "text/plain": [
       "                     0\n",
       "mpg_city     16.858974\n",
       "mpg_highway  23.440171"
      ]
     },
     "execution_count": 12,
     "metadata": {},
     "output_type": "execute_result"
    }
   ],
   "source": [
    "# Task7 - Worksheet1\n",
    "# Purpose: Calculates average mpg for city and highway and stores it in a dataframe\n",
    "# Output: New Dataframe\n",
    "\n",
    "avg_ctyMpg = (df['cty'].sum()/len(df['cty']))\n",
    "avg_hwyMpg = (df['hwy'].sum()/len(df['hwy']))\n",
    "\n",
    "mpgData = pd.DataFrame([avg_ctyMpg, avg_hwyMpg], index = ['mpg_city', 'mpg_highway'])\n",
    "\n",
    "mpgData"
   ]
  },
  {
   "cell_type": "code",
   "execution_count": 13,
   "metadata": {},
   "outputs": [],
   "source": [
    "import matplotlib.pyplot as plt"
   ]
  },
  {
   "cell_type": "code",
   "execution_count": 14,
   "metadata": {},
   "outputs": [
    {
     "data": {
      "text/plain": [
       "<matplotlib.axes._subplots.AxesSubplot at 0x1218df550>"
      ]
     },
     "execution_count": 14,
     "metadata": {},
     "output_type": "execute_result"
    },
    {
     "data": {
      "image/png": "[encoded data removed]",
      "text/plain": [
       "<Figure size 432x288 with 1 Axes>"
      ]
     },
     "metadata": {
      "needs_background": "light"
     },
     "output_type": "display_data"
    }
   ],
   "source": [
    "# Task8 - Worksheet1\n",
    "# Purpose: Plot mpg for highway\n",
    "# Output: Plot\n",
    "\n",
    "\n",
    "\n",
    "df['hwy'].plot.bar()"
   ]
  }
 ],
 "metadata": {
  "kernelspec": {
   "display_name": "Python 3",
   "language": "python",
   "name": "python3"
  },
  "language_info": {
   "codemirror_mode": {
    "name": "ipython",
    "version": 3
   },
   "file_extension": ".py",
   "mimetype": "text/x-python",
   "name": "python",
   "nbconvert_exporter": "python",
   "pygments_lexer": "ipython3",
   "version": "3.7.3"
  }
 },
 "nbformat": 4,
 "nbformat_minor": 2
}
